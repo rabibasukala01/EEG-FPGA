{
 "cells": [
  {
   "cell_type": "code",
   "execution_count": 50,
   "id": "b3b353ce",
   "metadata": {},
   "outputs": [],
   "source": [
    "import numpy as np\n",
    "import matplotlib.pyplot as plt\n",
    "\n",
    "from pynq import overlay, allocate\n",
    "from pynq.overlays.xadc_scope import xadc_scopeOverlay\n",
    "import time\n",
    "\n",
    "overlay = xadc_scopeOverlay('xadc_scope.bit')\n",
    "dma = overlay.axi_dma\n",
    "input_buffer = allocate(shape=(128,), dtype=np.uint16)\n",
    "data=[]\n",
    "name=\"srijanDatasN2.npy\""
   ]
  },
  {
   "cell_type": "code",
   "execution_count": 51,
   "id": "9f42bcdd",
   "metadata": {},
   "outputs": [
    {
     "name": "stdout",
     "output_type": "stream",
     "text": [
      "Loop finished after 60 seconds\n"
     ]
    }
   ],
   "source": [
    "import time\n",
    "\n",
    "# Set the start time using perf_counter\n",
    "start_time = time.perf_counter()\n",
    "\n",
    "# Run the loop for 30 seconds\n",
    "while time.perf_counter() - start_time < 60:\n",
    "    # Your code goes here\n",
    "    dma.recvchannel.transfer(input_buffer)\n",
    "    dma.recvchannel.wait()\n",
    "    data.append(list(input_buffer))\n",
    "\n",
    "# Code outside the loop (executed after 30 seconds)\n",
    "print(\"Loop finished after 60 seconds\")"
   ]
  },
  {
   "cell_type": "code",
   "execution_count": 52,
   "id": "80ae4767",
   "metadata": {},
   "outputs": [],
   "source": [
    "import numpy as np\n",
    "# Save the array using numpy\n",
    "np.save(name, data)\n"
   ]
  },
  {
   "cell_type": "code",
   "execution_count": 57,
   "id": "6e016850",
   "metadata": {},
   "outputs": [
    {
     "data": {
      "text/plain": [
       "array([0, 0, 0, 0, 0, 0, 0, 0, 0, 0, 0, 0, 0, 0, 0, 0, 0, 0, 0, 0, 0, 0,\n",
       "       0, 0, 0, 0, 0, 0, 0, 0, 0, 0, 0, 0, 0, 0, 0, 0, 0, 0, 0, 0, 0, 0,\n",
       "       0, 0, 0, 0, 0, 0, 0, 0, 0, 0, 0, 0, 0, 0, 0, 0, 0, 0, 0, 0, 0, 0,\n",
       "       0, 0, 0, 0, 0, 0, 0, 0, 0, 0, 0, 0, 0, 0, 0, 0, 0, 0, 0, 0, 0, 0,\n",
       "       0, 0, 0, 0, 0, 0, 0, 0, 0, 0, 0, 0, 0, 0, 0, 0, 0, 0, 0, 0, 0, 0,\n",
       "       0, 0, 0, 0, 0, 0, 0, 0, 0, 0, 0, 0, 0, 0, 0, 0, 0, 0], dtype=uint16)"
      ]
     },
     "execution_count": 57,
     "metadata": {},
     "output_type": "execute_result"
    }
   ],
   "source": [
    "import numpy as np\n",
    "\n",
    "# Load the array using numpy\n",
    "loaded_arr = np.load(name)\n",
    "\n",
    "len(loaded_arr)\n",
    "\n",
    "loaded_arr[3463]"
   ]
  },
  {
   "cell_type": "code",
   "execution_count": 54,
   "id": "24678a89",
   "metadata": {},
   "outputs": [],
   "source": [
    "# import matplotlib.pyplot as plt\n",
    "\n",
    "# nested_list = loaded_arr\n",
    "# flat_list = [item for sublist in nested_list for item in sublist]\n",
    "# plt.plot(flat_list)"
   ]
  },
  {
   "cell_type": "code",
   "execution_count": null,
   "id": "d119b0d7",
   "metadata": {
    "scrolled": true
   },
   "outputs": [],
   "source": []
  },
  {
   "cell_type": "markdown",
   "id": "9a45dedf",
   "metadata": {},
   "source": [
    "### flattened and plots"
   ]
  },
  {
   "cell_type": "code",
   "execution_count": 55,
   "id": "5a7f58e3",
   "metadata": {},
   "outputs": [],
   "source": [
    "# import matplotlib.pyplot as plt\n",
    "# import numpy as np\n",
    "\n",
    "# # Load the data\n",
    "# loaded_arr = np.load(\"C:\\\\Users\\\\prasa\\\\Downloads\\\\New folder\\\\rabiDatasT.npy\")\n",
    "# loaded_arr1 = np.load(\"C:\\\\Users\\\\prasa\\\\Downloads\\\\New folder\\\\rabiDatasN.npy\")\n",
    "\n",
    "# # Flatten the data\n",
    "# flat_list = [item for sublist in loaded_arr for item in sublist]\n",
    "# flat_list1 = [item for sublist in loaded_arr1 for item in sublist]\n",
    "\n",
    "# # Create subplots\n",
    "# fig, axs = plt.subplots(2, 1, figsize=(10, 8))\n",
    "\n",
    "# # Plot on the first subplot\n",
    "# axs[0].plot(flat_list, label=\"flat_list\")\n",
    "# axs[0].set_title(\"Subplot 1\")\n",
    "# axs[0].legend()\n",
    "\n",
    "# # Plot on the second subplot\n",
    "# axs[1].plot(flat_list1, label=\"flat_list1\", color=\"orange\")\n",
    "# axs[1].set_title(\"Subplot 2\")\n",
    "# axs[1].legend()\n",
    "\n",
    "# # Adjust layout to prevent overlap\n",
    "# plt.tight_layout()\n",
    "\n",
    "# # Show the plots\n",
    "# plt.show()\n"
   ]
  }
 ],
 "metadata": {
  "kernelspec": {
   "display_name": "Python 3 (ipykernel)",
   "language": "python",
   "name": "python3"
  },
  "language_info": {
   "codemirror_mode": {
    "name": "ipython",
    "version": 3
   },
   "file_extension": ".py",
   "mimetype": "text/x-python",
   "name": "python",
   "nbconvert_exporter": "python",
   "pygments_lexer": "ipython3",
   "version": "3.10.0"
  }
 },
 "nbformat": 4,
 "nbformat_minor": 5
}
